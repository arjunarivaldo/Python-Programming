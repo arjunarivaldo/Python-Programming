{
 "cells": [
  {
   "cell_type": "markdown",
   "id": "ee0ced7d",
   "metadata": {},
   "source": [
    "# List"
   ]
  },
  {
   "cell_type": "markdown",
   "id": "f68e01eb",
   "metadata": {},
   "source": [
    "List adalah tipe data dalam bentuk **daftar nilai** yang dipisahkan tanda koma antara nilai dan berada dalam tanda []."
   ]
  },
  {
   "cell_type": "markdown",
   "id": "e8dabdb7",
   "metadata": {},
   "source": [
    "### Menambah List"
   ]
  },
  {
   "cell_type": "markdown",
   "id": "589774e9",
   "metadata": {},
   "source": [
    "Ada beberapa cara untuk menambah elemen dari sebuah list, untuk melakukannya kita dapat menggunakan method seperti berikut:  \n",
    "**append()**: Menambahkan item list kearah kanan  \n",
    "**insert()**: Menambahkan item pada urutan indeks yang diinginkan  \n",
    "**extend()**: Menambah item list dengan list lain  "
   ]
  },
  {
   "cell_type": "code",
   "execution_count": 17,
   "id": "8ecb993f",
   "metadata": {},
   "outputs": [],
   "source": [
    "# Ini adalah instruksi untuk menambah list\n",
    "fruit_list = ['apple', 'banana', 'cherry']"
   ]
  },
  {
   "cell_type": "code",
   "execution_count": 18,
   "id": "79c84ffe",
   "metadata": {},
   "outputs": [
    {
     "data": {
      "text/plain": [
       "['apple', 'banana', 'cherry', 'orange']"
      ]
     },
     "execution_count": 18,
     "metadata": {},
     "output_type": "execute_result"
    }
   ],
   "source": [
    "fruit_list.append('orange')  # Menambahkan 'orange' ke akhir list\n",
    "fruit_list"
   ]
  },
  {
   "cell_type": "code",
   "execution_count": 19,
   "id": "b9e30b55",
   "metadata": {},
   "outputs": [
    {
     "data": {
      "text/plain": [
       "['apple', 'kiwi', 'banana', 'cherry', 'orange']"
      ]
     },
     "execution_count": 19,
     "metadata": {},
     "output_type": "execute_result"
    }
   ],
   "source": [
    "fruit_list.insert(1, 'kiwi')  # Menambahkan 'kiwi' pada indeks 1\n",
    "fruit_list"
   ]
  },
  {
   "cell_type": "code",
   "execution_count": null,
   "id": "8af7849d",
   "metadata": {},
   "outputs": [
    {
     "data": {
      "text/plain": [
       "['apple', 'banana', 'cherry', 'orange']"
      ]
     },
     "execution_count": 6,
     "metadata": {},
     "output_type": "execute_result"
    }
   ],
   "source": [
    "fruit_list1 = ['apple', 'banana']\n",
    "fruit_list2 = ['cherry', 'orange']\n",
    "fruit_list1.extend(fruit_list2)\n",
    "\n",
    "fruit_list1"
   ]
  },
  {
   "cell_type": "markdown",
   "id": "988a7634",
   "metadata": {},
   "source": [
    "### Menghapus List"
   ]
  },
  {
   "cell_type": "markdown",
   "id": "52fcde5e",
   "metadata": {},
   "source": [
    "Kita dapat menghapus elemen item dari sebuah list dengan menggunakan beberapa method seperti:  \n",
    "**remove()**, **pop()**, ataupun **del**."
   ]
  },
  {
   "cell_type": "code",
   "execution_count": 20,
   "id": "b1c0b88b",
   "metadata": {},
   "outputs": [
    {
     "data": {
      "text/plain": [
       "['apple', 'cherry']"
      ]
     },
     "execution_count": 20,
     "metadata": {},
     "output_type": "execute_result"
    }
   ],
   "source": [
    "fruit_list = ['apple', 'banana', 'cherry']\n",
    "\n",
    "fruit_list.remove('banana')  # Menghapus 'banana' dari list\n",
    "fruit_list"
   ]
  },
  {
   "cell_type": "code",
   "execution_count": 21,
   "id": "22440224",
   "metadata": {},
   "outputs": [
    {
     "data": {
      "text/plain": [
       "['apple', 'cherry']"
      ]
     },
     "execution_count": 21,
     "metadata": {},
     "output_type": "execute_result"
    }
   ],
   "source": [
    "fruit_list = ['apple', 'banana', 'cherry']\n",
    "\n",
    "fruit_list.pop(1) # Menghapus item pada indeks 1\n",
    "fruit_list"
   ]
  },
  {
   "cell_type": "code",
   "execution_count": 23,
   "id": "e2c0e213",
   "metadata": {},
   "outputs": [
    {
     "data": {
      "text/plain": [
       "['apple']"
      ]
     },
     "execution_count": 23,
     "metadata": {},
     "output_type": "execute_result"
    }
   ],
   "source": [
    "del fruit_list[1]  # Menghapus item pada indeks 1\n",
    "fruit_list"
   ]
  },
  {
   "cell_type": "markdown",
   "id": "49a9d9e2",
   "metadata": {},
   "source": [
    "# Tuple"
   ]
  },
  {
   "cell_type": "markdown",
   "id": "93847c79",
   "metadata": {},
   "source": [
    "Tuple adalah tipe data yang tersedia dalam bahasa pemograman Python yang dapat ditulis dalam bentuk **daftar nilai** yang dipisahkan koma (item) antara nilai dan berada dalam **tanda kurung ()**. Berbeda dengan list, tuple bersifat **Permanen** atau **Immutable**."
   ]
  },
  {
   "cell_type": "code",
   "execution_count": null,
   "id": "eb967fb7",
   "metadata": {},
   "outputs": [],
   "source": [
    "tuple1 = ('apple', 'banana', 'cherry')  # Tuple ini bersifat immutable\n",
    "tuple2 = (1, 3, 7, 9, 5)  # Tuple dengan angka\n",
    "tuple3 = (True, False, True)  # Tuple dengan boolean\n",
    "tuple4 = ('apple', 1, True)  # Tuple dengan berbagai tipe data"
   ]
  },
  {
   "cell_type": "markdown",
   "id": "fce8d9b4",
   "metadata": {},
   "source": [
    "### Mengakses Tuple"
   ]
  },
  {
   "cell_type": "markdown",
   "id": "cc9f4531",
   "metadata": {},
   "source": [
    "Pada Tuple kita dapat **mengakses element** yang ada dengan mendeklarasikan indeks dari element yang ingin kita akses. Tidak ada perbedaan dengan list."
   ]
  },
  {
   "cell_type": "code",
   "execution_count": 28,
   "id": "ee0e6918",
   "metadata": {},
   "outputs": [
    {
     "data": {
      "text/plain": [
       "'banana'"
      ]
     },
     "execution_count": 28,
     "metadata": {},
     "output_type": "execute_result"
    }
   ],
   "source": [
    "fruit_tuple = ('apple', 'banana', 'cherry', 'orange', 'kiwi')\n",
    "\n",
    "fruit_tuple[1]  # Mengakses item pada indeks 1"
   ]
  },
  {
   "cell_type": "code",
   "execution_count": 29,
   "id": "8867f7b0",
   "metadata": {},
   "outputs": [
    {
     "data": {
      "text/plain": [
       "('banana', 'cherry')"
      ]
     },
     "execution_count": 29,
     "metadata": {},
     "output_type": "execute_result"
    }
   ],
   "source": [
    "fruit_tuple[1:3]  # Mengakses item dari indeks 1 sampai 2 (tidak termasuk indeks 3)"
   ]
  },
  {
   "cell_type": "code",
   "execution_count": 30,
   "id": "6927f6c9",
   "metadata": {},
   "outputs": [
    {
     "data": {
      "text/plain": [
       "'orange'"
      ]
     },
     "execution_count": 30,
     "metadata": {},
     "output_type": "execute_result"
    }
   ],
   "source": [
    "fruit_tuple[-2]  # Mengakses item kedua dari belakang"
   ]
  },
  {
   "cell_type": "markdown",
   "id": "b680ea8a",
   "metadata": {},
   "source": [
    "#### Apa itu Immutable  "
   ]
  },
  {
   "cell_type": "markdown",
   "id": "04c81373",
   "metadata": {},
   "source": [
    "Tidak seperti list, tuple bersifat **immutable**. Yang berarti element yang ada pada tuple tidak bisa diubah. Ini berguna untuk menyimpan nilai-nilai yang semestinya tidak berubah semisal konstanta **π** atau **e** pada matematika."
   ]
  },
  {
   "cell_type": "markdown",
   "id": "cfc236c7",
   "metadata": {},
   "source": [
    "# Dictionary"
   ]
  },
  {
   "cell_type": "markdown",
   "id": "a07825c4",
   "metadata": {},
   "source": [
    "Dictionary adalah tipe data yang tersedia dalam bahasa pemrograman Python yang dapat ditulis dalam bentuk data dengan struktur **key-value**, bukan **daftar nilai** seperti pada List maupun Tuple dan berada dalam tanda kurung kurawal {}."
   ]
  },
  {
   "cell_type": "code",
   "execution_count": 32,
   "id": "07b7978e",
   "metadata": {},
   "outputs": [],
   "source": [
    "fruit_dict = {  'nama': 'pisang',\n",
    "                'jenis': 'ambon',\n",
    "                'kode': 'A123',\n",
    "                'harga': 5000  }"
   ]
  },
  {
   "cell_type": "markdown",
   "id": "8d1b45d4",
   "metadata": {},
   "source": [
    "### Operasi pada Dictionary"
   ]
  },
  {
   "cell_type": "markdown",
   "id": "ab1fa30c",
   "metadata": {},
   "source": [
    "Operasi yang ada pada Dictionary sama dengan operasi yang bisa dilakukan pada List dan Tuple yaitu **mengakses, mengganti, menambah,** dan **menghapus**."
   ]
  },
  {
   "cell_type": "markdown",
   "id": "a30443ab",
   "metadata": {},
   "source": []
  }
 ],
 "metadata": {
  "kernelspec": {
   "display_name": "base",
   "language": "python",
   "name": "python3"
  },
  "language_info": {
   "codemirror_mode": {
    "name": "ipython",
    "version": 3
   },
   "file_extension": ".py",
   "mimetype": "text/x-python",
   "name": "python",
   "nbconvert_exporter": "python",
   "pygments_lexer": "ipython3",
   "version": "3.13.5"
  }
 },
 "nbformat": 4,
 "nbformat_minor": 5
}

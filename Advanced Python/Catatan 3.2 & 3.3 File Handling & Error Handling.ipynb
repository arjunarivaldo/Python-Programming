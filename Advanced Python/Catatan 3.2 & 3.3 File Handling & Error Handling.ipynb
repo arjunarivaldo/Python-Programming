{
 "cells": [
  {
   "cell_type": "markdown",
   "id": "57750ffe",
   "metadata": {},
   "source": [
    "# File Handling"
   ]
  },
  {
   "cell_type": "markdown",
   "id": "8679894f",
   "metadata": {},
   "source": [
    "## Apa itu File Handling?"
   ]
  },
  {
   "cell_type": "markdown",
   "id": "bcdbe6c5",
   "metadata": {},
   "source": [
    "Python memiliki beberapa fungsi untuk mengelola file seperti membuat, membaca, memperbarui, dan menghapus file.  \n",
    "  \n",
    "Dengan fungsi ini, Python bisa menangani **normal file** seperti teks ataupun **binary file** (0s dan 1s)."
   ]
  },
  {
   "cell_type": "markdown",
   "id": "27b1bfb7",
   "metadata": {},
   "source": [
    "## Jenis File Handling"
   ]
  },
  {
   "cell_type": "markdown",
   "id": "e52456b5",
   "metadata": {},
   "source": [
    "Ada 3 jenis metode operasi dasar di Python, yaitu:  \n",
    "r read() -> Untuk membaca file  \n",
    "a append() -> Untuk menambah data  \n",
    "w write() -> Untuk menulis (mengubah) data"
   ]
  },
  {
   "cell_type": "code",
   "execution_count": 13,
   "id": "6e38a086",
   "metadata": {},
   "outputs": [
    {
     "name": "stdout",
     "output_type": "stream",
     "text": [
      "Ini merupakan data yang berisi kumpulan kata, saya simpan dalam file data.txt\n",
      "Python merupakan bahasa pemograman yang mantap\n",
      "Belajar file handling sangat penting untuk data processing.\n"
     ]
    }
   ],
   "source": [
    "# Read\n",
    "data = open('./data.txt', mode='r', encoding='utf-8')\n",
    "# print(data.read())\n",
    "string = data.read()\n",
    "string = string.replace('adalah', 'merupakan')\n",
    "\n",
    "data.close()\n",
    "# --- IGNORE ---\n",
    "print(string)"
   ]
  },
  {
   "cell_type": "code",
   "execution_count": 17,
   "id": "97d08338",
   "metadata": {},
   "outputs": [],
   "source": [
    "# Append\n",
    "data = open('./data.txt', mode='a', encoding='utf-8')\n",
    "data.write ('\\n\\nIni adalah data tambahan.\\n')\n",
    "\n",
    "data.close()\n"
   ]
  },
  {
   "cell_type": "code",
   "execution_count": null,
   "id": "49fcd1b5",
   "metadata": {},
   "outputs": [],
   "source": [
    "# Write\n",
    "data = open('./data.txt', mode='w', encoding='utf-8')\n",
    "data.write ('\\n ini adalah data baru yang ditambakan melalui metode write.\\n')\n",
    "\n",
    "data.close()\n",
    "\n",
    "# Ini akan menghapus semua isi file data.txt\n",
    "# dan mengubahnya dengan data baru yang ditulis."
   ]
  },
  {
   "cell_type": "markdown",
   "id": "4f5013e3",
   "metadata": {},
   "source": [
    "## Better Practice"
   ]
  },
  {
   "cell_type": "code",
   "execution_count": 23,
   "id": "c08d363f",
   "metadata": {},
   "outputs": [
    {
     "name": "stdout",
     "output_type": "stream",
     "text": [
      "\n",
      " ini adalah data baru yang ditambakan melalui metode write.\n",
      "\n"
     ]
    }
   ],
   "source": [
    "try:\n",
    "    data = open('./data.txt', mode='r', encoding='utf-8')\n",
    "    print(data.read())\n",
    "finally:\n",
    "    data.close()"
   ]
  },
  {
   "cell_type": "markdown",
   "id": "06d38267",
   "metadata": {},
   "source": [
    "## Best Practice"
   ]
  },
  {
   "cell_type": "code",
   "execution_count": 24,
   "id": "b4305909",
   "metadata": {},
   "outputs": [
    {
     "name": "stdout",
     "output_type": "stream",
     "text": [
      "\n",
      " ini adalah data baru yang ditambakan melalui metode write.\n",
      "\n"
     ]
    }
   ],
   "source": [
    "with open('./data.txt', mode='r', encoding='utf-8') as f:\n",
    "    print(f.read())\n",
    "    \n",
    "# Dengan menggunakan `with`, file akan otomatis ditutup setelah blok selesai dieksekusi."
   ]
  },
  {
   "cell_type": "markdown",
   "id": "991995a0",
   "metadata": {},
   "source": [
    "# Error Handling"
   ]
  },
  {
   "cell_type": "markdown",
   "id": "5259ab0e",
   "metadata": {},
   "source": [
    "Pada saat melakukan programming, kita dapat membuat kesalahan tertentu saat menulis program yang menyebabkan **error** dan ini perlu ditangani. Program python **berakhir segera** ketika menemukan kesalahan yang tidak ditangani."
   ]
  },
  {
   "cell_type": "markdown",
   "id": "60ba30a8",
   "metadata": {},
   "source": [
    "## 2 Tipe Error "
   ]
  },
  {
   "cell_type": "markdown",
   "id": "12afe8df",
   "metadata": {},
   "source": [
    "Error pada bahasa pemrograman secara umum bisa dibagi menjadi 2, yaitu:  \n",
    "1. syntax error  \n",
    "2. Logical error"
   ]
  },
  {
   "cell_type": "markdown",
   "id": "ee7ca8ba",
   "metadata": {},
   "source": [
    "### Syntax Error"
   ]
  },
  {
   "cell_type": "code",
   "execution_count": 25,
   "id": "5cd6145b",
   "metadata": {},
   "outputs": [
    {
     "ename": "SyntaxError",
     "evalue": "expected ':' (4111560831.py, line 3)",
     "output_type": "error",
     "traceback": [
      "\u001b[1;36m  Cell \u001b[1;32mIn[25], line 3\u001b[1;36m\u001b[0m\n\u001b[1;33m    for fruit in fruit_list\u001b[0m\n\u001b[1;37m                           ^\u001b[0m\n\u001b[1;31mSyntaxError\u001b[0m\u001b[1;31m:\u001b[0m expected ':'\n"
     ]
    }
   ],
   "source": [
    "# Ini adalah contoh error \n",
    "fruit_list = ['apple', 'banana', 'cherry']\n",
    "for fruit in fruit_list\n",
    "    print(fruit)"
   ]
  },
  {
   "cell_type": "markdown",
   "id": "2160587d",
   "metadata": {},
   "source": [
    "### Logical Error"
   ]
  },
  {
   "cell_type": "code",
   "execution_count": 26,
   "id": "7c0dbf68",
   "metadata": {},
   "outputs": [
    {
     "ename": "ZeroDivisionError",
     "evalue": "division by zero",
     "output_type": "error",
     "traceback": [
      "\u001b[1;31m---------------------------------------------------------------------------\u001b[0m",
      "\u001b[1;31mZeroDivisionError\u001b[0m                         Traceback (most recent call last)",
      "Cell \u001b[1;32mIn[26], line 4\u001b[0m\n\u001b[0;32m      2\u001b[0m nilai \u001b[38;5;241m=\u001b[39m \u001b[38;5;241m10\u001b[39m\n\u001b[0;32m      3\u001b[0m pembagi \u001b[38;5;241m=\u001b[39m \u001b[38;5;241m0\u001b[39m\n\u001b[1;32m----> 4\u001b[0m hasil \u001b[38;5;241m=\u001b[39m nilai \u001b[38;5;241m/\u001b[39m pembagi\n",
      "\u001b[1;31mZeroDivisionError\u001b[0m: division by zero"
     ]
    }
   ],
   "source": [
    "# Ini adalah contoh error \n",
    "nilai = 10\n",
    "pembagi = 0\n",
    "hasil = nilai / pembagi"
   ]
  },
  {
   "cell_type": "markdown",
   "id": "b96eb8e2",
   "metadata": {},
   "source": [
    "## Exception"
   ]
  },
  {
   "cell_type": "markdown",
   "id": "d5aba93e",
   "metadata": {},
   "source": [
    "Exception merupakan keadaan dimana saat kode tidak ada kesalahan secara sintaks tapi muncul error lainnya    \n",
    "Beberapa contoh dari exception yang dimiliki oleh python adalah:  \n",
    "~ ZeroDivisionError  \n",
    "~ ValueError  \n",
    "~ AtributeError  \n",
    "~ ImportError  \n",
    "~ IndexError\n"
   ]
  },
  {
   "cell_type": "markdown",
   "id": "7aac601c",
   "metadata": {},
   "source": [
    "## Error Handling with Try Except"
   ]
  },
  {
   "cell_type": "markdown",
   "id": "35ea3a12",
   "metadata": {},
   "source": [
    "Kita dapat mengatur agar program kita agar tidak menghasilkan pesan error yang tidak disengaja dan kita dapat melakukan pengecekan pada tempat yang kita inginkan dengan **Try - Except**"
   ]
  },
  {
   "cell_type": "code",
   "execution_count": 39,
   "id": "d4bf1fc4",
   "metadata": {},
   "outputs": [
    {
     "name": "stdout",
     "output_type": "stream",
     "text": [
      "Dibawah ini terjadi error, tapi program tetap berjalan.\n",
      "Terjadi kesalahan: <class 'ZeroDivisionError'>\n",
      "Program tetap berjalan meskipun terjadi error.\n"
     ]
    }
   ],
   "source": [
    "print ('Dibawah ini terjadi error, tapi program tetap berjalan.')\n",
    "try:\n",
    "    nilai = 10\n",
    "    pembagi = 0\n",
    "    hasil = nilai / pembagi\n",
    "except Exception as e:\n",
    "    print(f\"Terjadi kesalahan: {e.__class__}\")\n",
    "    \n",
    "print(\"Program tetap berjalan meskipun terjadi error.\")"
   ]
  },
  {
   "cell_type": "code",
   "execution_count": 36,
   "id": "93c8c2b1",
   "metadata": {},
   "outputs": [
    {
     "name": "stdout",
     "output_type": "stream",
     "text": [
      "ArithmeticError\n",
      "AssertionError\n",
      "AttributeError\n",
      "BaseException\n",
      "BaseExceptionGroup\n",
      "BlockingIOError\n",
      "BrokenPipeError\n",
      "BufferError\n",
      "BytesWarning\n",
      "ChildProcessError\n",
      "ConnectionAbortedError\n",
      "ConnectionError\n",
      "ConnectionRefusedError\n",
      "ConnectionResetError\n",
      "DeprecationWarning\n",
      "EOFError\n",
      "Ellipsis\n",
      "EncodingWarning\n",
      "EnvironmentError\n",
      "Exception\n",
      "ExceptionGroup\n",
      "False\n",
      "FileExistsError\n",
      "FileNotFoundError\n",
      "FloatingPointError\n",
      "FutureWarning\n",
      "GeneratorExit\n",
      "IOError\n",
      "ImportError\n",
      "ImportWarning\n",
      "IndentationError\n",
      "IndexError\n",
      "InterruptedError\n",
      "IsADirectoryError\n",
      "KeyError\n",
      "KeyboardInterrupt\n",
      "LookupError\n",
      "MemoryError\n",
      "ModuleNotFoundError\n",
      "NameError\n",
      "None\n",
      "NotADirectoryError\n",
      "NotImplemented\n",
      "NotImplementedError\n",
      "OSError\n",
      "OverflowError\n",
      "PendingDeprecationWarning\n",
      "PermissionError\n",
      "ProcessLookupError\n",
      "PythonFinalizationError\n",
      "RecursionError\n",
      "ReferenceError\n",
      "ResourceWarning\n",
      "RuntimeError\n",
      "RuntimeWarning\n",
      "StopAsyncIteration\n",
      "StopIteration\n",
      "SyntaxError\n",
      "SyntaxWarning\n",
      "SystemError\n",
      "SystemExit\n",
      "TabError\n",
      "TimeoutError\n",
      "True\n",
      "TypeError\n",
      "UnboundLocalError\n",
      "UnicodeDecodeError\n",
      "UnicodeEncodeError\n",
      "UnicodeError\n",
      "UnicodeTranslateError\n",
      "UnicodeWarning\n",
      "UserWarning\n",
      "ValueError\n",
      "Warning\n",
      "WindowsError\n",
      "ZeroDivisionError\n",
      "_IncompleteInputError\n",
      "__IPYTHON__\n",
      "__build_class__\n",
      "__debug__\n",
      "__doc__\n",
      "__import__\n",
      "__loader__\n",
      "__name__\n",
      "__package__\n",
      "__spec__\n",
      "abs\n",
      "aiter\n",
      "all\n",
      "anext\n",
      "any\n",
      "ascii\n",
      "bin\n",
      "bool\n",
      "breakpoint\n",
      "bytearray\n",
      "bytes\n",
      "callable\n",
      "chr\n",
      "classmethod\n",
      "compile\n",
      "complex\n",
      "copyright\n",
      "credits\n",
      "delattr\n",
      "dict\n",
      "dir\n",
      "display\n",
      "divmod\n",
      "enumerate\n",
      "eval\n",
      "exec\n",
      "execfile\n",
      "filter\n",
      "float\n",
      "format\n",
      "frozenset\n",
      "get_ipython\n",
      "getattr\n",
      "globals\n",
      "hasattr\n",
      "hash\n",
      "help\n",
      "hex\n",
      "id\n",
      "input\n",
      "int\n",
      "isinstance\n",
      "issubclass\n",
      "iter\n",
      "len\n",
      "license\n",
      "list\n",
      "locals\n",
      "map\n",
      "max\n",
      "memoryview\n",
      "min\n",
      "next\n",
      "object\n",
      "oct\n",
      "open\n",
      "ord\n",
      "pow\n",
      "print\n",
      "property\n",
      "range\n",
      "repr\n",
      "reversed\n",
      "round\n",
      "runfile\n",
      "set\n",
      "setattr\n",
      "slice\n",
      "sorted\n",
      "staticmethod\n",
      "str\n",
      "sum\n",
      "super\n",
      "tuple\n",
      "type\n",
      "vars\n",
      "zip\n"
     ]
    }
   ],
   "source": [
    "# Berikut adalah jenis-jenis error yang umum terjadi di Python:\n",
    "\n",
    "jenis_error = dir(locals()['__builtin__'])\n",
    "\n",
    "for i in jenis_error:\n",
    "    print(i)"
   ]
  },
  {
   "cell_type": "code",
   "execution_count": null,
   "id": "f158c547",
   "metadata": {},
   "outputs": [],
   "source": [
    "class ValueTooSmallError(Exception):\n",
    "    pass\n",
    "\n",
    "class ValueTooLargeError(Exception):\n",
    "    pass\n",
    "\n",
    "number = 10\n",
    "\n",
    "while True:\n",
    "    try:\n",
    "        i_num = int(input(\"Masukan angka: \"))\n",
    "\n",
    "        if i_num < number:\n",
    "            raise ValueTooSmallError\n",
    "        elif i_num > number:\n",
    "            raise ValueTooLargeError\n",
    "        break\n",
    "    \n",
    "    except ValueTooSmallError:\n",
    "        print(\"Angka yang kamu tebak terlalu kecil, coba lagi!\")\n",
    "        print()\n",
    "    except ValueTooLargeError:\n",
    "        print(\"Angka yang kamu tebak terlalu besar, coba lagi!\")\n",
    "        print()\n",
    "\n",
    "print(\"Betul! Kamu berhasil menebak dengan tepat.\")"
   ]
  },
  {
   "cell_type": "code",
   "execution_count": null,
   "id": "0d171aeb",
   "metadata": {},
   "outputs": [],
   "source": []
  }
 ],
 "metadata": {
  "kernelspec": {
   "display_name": "base",
   "language": "python",
   "name": "python3"
  },
  "language_info": {
   "codemirror_mode": {
    "name": "ipython",
    "version": 3
   },
   "file_extension": ".py",
   "mimetype": "text/x-python",
   "name": "python",
   "nbconvert_exporter": "python",
   "pygments_lexer": "ipython3",
   "version": "3.13.5"
  }
 },
 "nbformat": 4,
 "nbformat_minor": 5
}

{
 "cells": [
  {
   "cell_type": "markdown",
   "id": "a1205a4c",
   "metadata": {},
   "source": [
    "# OOP"
   ]
  },
  {
   "cell_type": "markdown",
   "id": "c219023f",
   "metadata": {},
   "source": [
    "## Apa itu OOP?"
   ]
  },
  {
   "cell_type": "markdown",
   "id": "05b395a7",
   "metadata": {},
   "source": [
    "OOP (Object-Oriented Programming) adalah salah satu teknik yang popular untuk menyelesaikan masalah-masalah bahasa pemrograman.  \n",
    "Ini adalah teknik dengan paradigma penyelesaian masalah berbasis objek."
   ]
  },
  {
   "cell_type": "markdown",
   "id": "4d91c87d",
   "metadata": {},
   "source": [
    "Objek memiliki 2 karakteristik yaitu **attribute (sifat)** dan **method (perilaku)**.  \n",
    "Semisal, objek kucing memiliki:  \n",
    "1. Attribute (nama, type, age, color)  \n",
    "2. Method (walk, run, play)  \n",
    "  \n",
    "Contoh lainnya, kita mendefinisikan objek rumah, maka rumah memiliki:  \n",
    "1. Attribute (type, style, size, num of floors)  \n",
    "2. Method (close the door, turn on the light)"
   ]
  },
  {
   "cell_type": "markdown",
   "id": "f65780e7",
   "metadata": {},
   "source": [
    "Konsep ini tujuannya untuk mendukung ide agar file-file python yang kita miliki lebih **understanable** dan **reusable**.  \n",
    "  \n",
    "Istilah yang cukup popular di dunia bahasa pemrograman yaitu **DRY (don't repeat yourself)"
   ]
  },
  {
   "cell_type": "code",
   "execution_count": 17,
   "id": "fa9ae394",
   "metadata": {},
   "outputs": [
    {
     "data": {
      "text/plain": [
       "'Yuki says Meow!'"
      ]
     },
     "execution_count": 17,
     "metadata": {},
     "output_type": "execute_result"
    }
   ],
   "source": [
    "class Cat:\n",
    "    def __init__(self, name):\n",
    "        self.name = name\n",
    "\n",
    "    def speak(self):\n",
    "        return f\"{self.name} says Meow!\"\n",
    "\n",
    "yuki = Cat('Yuki')\n",
    "\n",
    "yuki.speak()"
   ]
  },
  {
   "cell_type": "markdown",
   "id": "d963898b",
   "metadata": {},
   "source": [
    "## Outline"
   ]
  },
  {
   "cell_type": "markdown",
   "id": "46c138ce",
   "metadata": {},
   "source": [
    "1. Class & Object  \n",
    "-> Attribute  \n",
    "-> Method  \n",
    "2. Konsep OOP: **Encapsulation, Inheritance,** and **Polymorphism**"
   ]
  },
  {
   "cell_type": "markdown",
   "id": "3dbf5724",
   "metadata": {},
   "source": [
    "### Class & Object"
   ]
  },
  {
   "cell_type": "markdown",
   "id": "95361bf4",
   "metadata": {},
   "source": [
    "#### Apa itu Class?"
   ]
  },
  {
   "cell_type": "markdown",
   "id": "61c85d7e",
   "metadata": {},
   "source": [
    "Class adalah **blueprint** dari sekumpulan objek yang akan dibuat. Sebagaimana blueprint pada umumnya.  \n",
    "  \n",
    "Misal dengan **kelas** kucing, kita bisa membuat **objek-objek** seperti kucing anggora, kucing persia, dan kucing siam.  \n",
    "  \n",
    "  Contoh penerapan:"
   ]
  },
  {
   "cell_type": "code",
   "execution_count": 13,
   "id": "516f42b5",
   "metadata": {},
   "outputs": [],
   "source": [
    "# Ini adalah contoh class\n",
    "class Cat:\n",
    "    # Isi kelas akan memuat atribut dan method dari di kucing ini.\n",
    "    pass"
   ]
  },
  {
   "cell_type": "markdown",
   "id": "e0260cf7",
   "metadata": {},
   "source": [
    "#### Apa itu Object?"
   ]
  },
  {
   "cell_type": "markdown",
   "id": "8ed7231b",
   "metadata": {},
   "source": [
    "Object adalah hasil **buatan** yang merujuk pada kelas. Saat kelas didefinisikan, maka definisi tersebut akan dibawa oleh objek tersebut.  \n",
    "  \n",
    "  Contoh penerapan:"
   ]
  },
  {
   "cell_type": "code",
   "execution_count": 14,
   "id": "62ea4778",
   "metadata": {},
   "outputs": [],
   "source": [
    "# Ini adalah contoh object\n",
    "Persia = Cat()\n",
    "# Persia adalah sebuah object dari class Cat.\n",
    "pass"
   ]
  },
  {
   "cell_type": "code",
   "execution_count": 15,
   "id": "19f59d32",
   "metadata": {},
   "outputs": [],
   "source": [
    "# Membuat object anggora dan persia dari class Cat\n",
    "# Nama class diawali dengan huruf kapital\n",
    "class Cat:\n",
    "    def __init__(self, name, type):\n",
    "        self.name = name\n",
    "        self.type = type\n",
    "\n",
    "    def run(self):\n",
    "        print(f\"{self.name} is running!\")\n",
    "        \n",
    "kinako = Cat(\"Kinako\", \"Anggora\")\n",
    "minto = Cat(\"Minto\", \"Persia\")"
   ]
  },
  {
   "cell_type": "markdown",
   "id": "ca1e9edc",
   "metadata": {},
   "source": [
    "Metode ___init___() berfungsi untuk mendefinisikan attribute sejak pertama kali class dipanggil, dikenal dengan istilah **konstruktor**"
   ]
  },
  {
   "cell_type": "markdown",
   "id": "b5a232e8",
   "metadata": {},
   "source": [
    "Kedua objek yang sudah dibuat yaitu anggora dan persia memiliki behaviour yang sama yaitu ___run()___"
   ]
  },
  {
   "cell_type": "markdown",
   "id": "60df932a",
   "metadata": {},
   "source": [
    "Kita bisa mendefinisikan lebih dari satu **method** sebagai perilaku/behaviour dari object yang akan kita buat."
   ]
  },
  {
   "cell_type": "code",
   "execution_count": 18,
   "id": "fcecc10a",
   "metadata": {},
   "outputs": [],
   "source": [
    "class Cat:\n",
    "    ...\n",
    "    def run(self):\n",
    "        print(f\"{self.name} is running!\")\n",
    "    def jump(self):\n",
    "        print(f\"{self.name} is jumping!\")"
   ]
  },
  {
   "cell_type": "markdown",
   "id": "6ff05e2a",
   "metadata": {},
   "source": []
  },
  {
   "cell_type": "markdown",
   "id": "f1c7ec64",
   "metadata": {},
   "source": [
    "#### Praktek"
   ]
  },
  {
   "cell_type": "code",
   "execution_count": 23,
   "id": "218e72af",
   "metadata": {},
   "outputs": [
    {
     "name": "stdout",
     "output_type": "stream",
     "text": [
      "Yuki is running!\n",
      "Milo is jumping!\n",
      "\n",
      "Yuki adalah kucing jenis Anggora.\n",
      "Milo adalah kucing jenis Persia.\n",
      "\n",
      "Ini adalah class Cat yang merepresentasikan kucing.\n",
      "Class ini memiliki atribut nama dan jenis kucing.\n",
      "\n"
     ]
    }
   ],
   "source": [
    "# Langkah awal adalah membuat class beserta atributnya\n",
    "class Cat:\n",
    "    '''\n",
    "    Ini adalah class Cat yang merepresentasikan kucing.\n",
    "    Class ini memiliki atribut nama dan jenis kucing.\n",
    "    '''\n",
    "    def __init__(self, name, type):\n",
    "        self.name = name\n",
    "        self.type = type\n",
    "\n",
    "    def run(self):\n",
    "        print(f\"{self.name} is running!\")\n",
    "        \n",
    "    def jump(self):\n",
    "        print(f\"{self.name} is jumping!\")\n",
    "        \n",
    "    def speak(self):\n",
    "        return f\"{self.name} says Meow!\"\n",
    "    \n",
    "    def eat(self, food):\n",
    "        print(f\"{self.name} is eating {food}!\")\n",
    "        \n",
    "# Selanjutnya kita buat objek dari class Cat\n",
    "yuki = Cat('Yuki', 'Anggora')\n",
    "milo = Cat('Milo', 'Persia')\n",
    "\n",
    "# Kita bisa memanggil method dari objek tersebut\n",
    "yuki.run()\n",
    "milo.jump()\n",
    "\n",
    "print (f'\\n{yuki.name} adalah kucing jenis {yuki.type}.')\n",
    "print (f'{milo.name} adalah kucing jenis {milo.type}.')\n",
    "\n",
    "print(yuki.__doc__)"
   ]
  },
  {
   "cell_type": "markdown",
   "id": "ac2e503a",
   "metadata": {},
   "source": [
    "Contoh use case  \n",
    "Memanipulasi data karyawan"
   ]
  },
  {
   "cell_type": "code",
   "execution_count": null,
   "id": "2ba6bc63",
   "metadata": {},
   "outputs": [],
   "source": [
    "class Employee():\n",
    "    '''\n",
    "    Ini adalah Class untuk memanipulasi data employee\n",
    "    Melalui kelas ini kita bisa memanipulasi data yang ada seperti baca, hapus dan tambah\n",
    "    '''\n",
    "\n",
    "    def __init__(self, lokasi_file):\n",
    "\n",
    "        self.data_employee = open(f'{lokasi_file}', mode='r', encoding='utf-8')\n",
    "        self.data_per_sesi = 10\n",
    "\n",
    "    def baca_data(self):\n",
    "\n",
    "        self.data_employee = self.data_employee[:self.data_per_sesi]\n",
    "        return self.data_employee\n",
    "\n",
    "    def hapus_data(self, baris, kolom):\n",
    "\n",
    "        del self.data_employee[baris][kolom]\n",
    "\n",
    "    def tambah_data(self, data_baru):\n",
    "\n",
    "        nama, gaji, posisi, jabatan, domisili = data_baru\n",
    "        self.data_employee.append([nama, gaji, posisi, jabatan, domisili])\n",
    "\n",
    "# Membuat objek\n",
    "it = Employee(lokasi_file='./karyawan_IT.xls')\n",
    "marketing = Employee(lokasi_file='./karyawan_marketing.xls')\n",
    "product = Employee(lokasi_file='./karyawan_product.xls')"
   ]
  },
  {
   "cell_type": "markdown",
   "id": "7e71093e",
   "metadata": {},
   "source": [
    "### Konsep OOP"
   ]
  },
  {
   "cell_type": "markdown",
   "id": "4bbbf51c",
   "metadata": {},
   "source": [
    "#### Encapsulation"
   ]
  },
  {
   "cell_type": "markdown",
   "id": "69f0c8ee",
   "metadata": {},
   "source": [
    "  ##### Apa itu Encapsulation?"
   ]
  },
  {
   "cell_type": "markdown",
   "id": "5d482545",
   "metadata": {},
   "source": [
    "Dengan menggunakan OOP di Python, class bisa membatasi akses ke **atribut dan metode**. Ini mencegah data dari modifikasi langsung atau dari perubahan tidak disengaja, dan ini disebut dengan enkapsulasi."
   ]
  },
  {
   "cell_type": "markdown",
   "id": "1a1c81b0",
   "metadata": {},
   "source": [
    "Untuk menandai atribut-atribut privat kita bisa menggunakan tanda underscore sebagai prefik single (_) ataupun double (__)  \n",
    "  \n",
    "  contoh"
   ]
  },
  {
   "cell_type": "code",
   "execution_count": null,
   "id": "9b660e37",
   "metadata": {},
   "outputs": [],
   "source": [
    "class Mobil:\n",
    "    def __init__(self):\n",
    "        self.__tipe = 'Avanza'\n",
    "        self.__bensin = 40 #liter"
   ]
  },
  {
   "cell_type": "markdown",
   "id": "93d413bd",
   "metadata": {},
   "source": [
    "##### Setter & Getter"
   ]
  },
  {
   "cell_type": "markdown",
   "id": "cc068917",
   "metadata": {},
   "source": [
    "Dengan enkapsulasi, atribut dan metode pada class yang kita definisikan akan bersifat terbatas dalam hal akses, namun bisa tetap diubah melalui fungsi setter & getter yang dibuat. Biasanya diberi nama method **set()** dan **get()** atau **atur()** dan **lihat()**  \n",
    "  \n",
    "  Contoh"
   ]
  },
  {
   "cell_type": "code",
   "execution_count": null,
   "id": "4d0faf4e",
   "metadata": {},
   "outputs": [],
   "source": [
    "class Mobil:\n",
    "    def __init__(self):\n",
    "        self.__tipe = 'Avanza'\n",
    "        self.__bensin = 40 #liter\n",
    "    \n",
    "    def aturMaksimumBensin(self, bensin):\n",
    "        self.__bensin = bensin\n",
    "        \n",
    "# aturanMaksimumBensin() adalah contoh setter\n",
    "# Setter adalah method yang digunakan untuk mengubah nilai dari atribut private"
   ]
  },
  {
   "cell_type": "code",
   "execution_count": 7,
   "id": "69d07796",
   "metadata": {},
   "outputs": [
    {
     "name": "stdout",
     "output_type": "stream",
     "text": [
      "50\n",
      "Maksimum bensin adalah 40 liter\n",
      "Maksimum bensin adalah 100 liter\n"
     ]
    }
   ],
   "source": [
    "class Mobil:\n",
    "    def __init__ (self, plat):\n",
    "        self.plat = plat\n",
    "        self.__tipe = 'Avanza'\n",
    "        self.__bensin = 40 #liter\n",
    "    \n",
    "    #getter \n",
    "    def lihatMaksimumBensin(self):\n",
    "        print(f'Maksimum bensin adalah {self.__bensin} liter')\n",
    "        \n",
    "    #setter\n",
    "    def aturMaksimumBensin(self, bensin):\n",
    "        self.__bensin = bensin\n",
    "    \n",
    "avanza = Mobil('B 1234 AB')\n",
    "\n",
    "avanza.__bensin = 50 # Ini tidak akan mengubah nilai __bensin karena __bensin adalah atribut private\n",
    "\n",
    "print (avanza.__bensin)\n",
    "avanza.lihatMaksimumBensin()\n",
    "avanza.aturMaksimumBensin(100)\n",
    "avanza.lihatMaksimumBensin()"
   ]
  },
  {
   "cell_type": "markdown",
   "id": "c7249983",
   "metadata": {},
   "source": [
    "#### Inheritance"
   ]
  },
  {
   "cell_type": "markdown",
   "id": "bd31d62f",
   "metadata": {},
   "source": [
    "Inheritance adalah konsep pada OOP yang memungkinkan kita untuk mendefinisikan kelas yang mewariskan semua fungsionalitas dari **kelas induk (parent)** dan memungkinkan kita untuk menambahkan lebih banyak lagi."
   ]
  },
  {
   "cell_type": "markdown",
   "id": "63c81b62",
   "metadata": {},
   "source": [
    "Inheritance merupakan fitur yang penting dalam OOP.  \n",
    "  \n",
    "  Dengan inheritance, kita bisa mendefinisikan kelas baru hanya dengan sedikit modifikasi dari kelas yang sudah ada. Kelas baru disebut **kelas child** dan kelas yang diwarisinya disebut **kelas parent** atau **base**"
   ]
  },
  {
   "cell_type": "markdown",
   "id": "137ed40b",
   "metadata": {},
   "source": [
    "Penerapan Inheritance pada OOP"
   ]
  },
  {
   "cell_type": "code",
   "execution_count": 24,
   "id": "dd1ead3c",
   "metadata": {},
   "outputs": [],
   "source": [
    "class ParentClass:\n",
    "    # isi dari parent class\n",
    "    pass\n",
    "\n",
    "class ChildClass(ParentClass):\n",
    "    # isi dari child class\n",
    "    pass"
   ]
  },
  {
   "cell_type": "markdown",
   "id": "27d3ddcd",
   "metadata": {},
   "source": [
    "Contoh lain"
   ]
  },
  {
   "cell_type": "code",
   "execution_count": null,
   "id": "1131e51d",
   "metadata": {},
   "outputs": [],
   "source": [
    "class Animal:\n",
    "    def __init__(self):\n",
    "        self.type = 'Mamalia'\n",
    "\n",
    "    def growl(self):\n",
    "        return f\"{self.type} ini bertumbuh!\"\n",
    "    \n",
    "class Dog(Animal):\n",
    "    def __init__(self):\n",
    "        super().__init__()\n",
    "        self.type = 'Anjing'  \n",
    "    \n",
    "    def run(self):\n",
    "        return f\"{self.type} ini berlari!\""
   ]
  },
  {
   "cell_type": "markdown",
   "id": "8d2772d4",
   "metadata": {},
   "source": [
    "Overriding"
   ]
  },
  {
   "cell_type": "markdown",
   "id": "2159fd55",
   "metadata": {},
   "source": [
    "Tujuan kita mewariskan semua fungsionalitas dari kelas induk (parent) ke kelas baru (child) adalah agar fungsionalitas yang sudah ada bisa dikembangkan atau dikenal dengan istilah **overriding**. Lalu bagaimana dnegan fungsi __init__() yang ada pada keduanya?  \n",
    "Gunakan ini pada kelas baru **super().__init__('Nama kelas')**"
   ]
  },
  {
   "cell_type": "code",
   "execution_count": 21,
   "id": "2362d161",
   "metadata": {},
   "outputs": [
    {
     "name": "stdout",
     "output_type": "stream",
     "text": [
      "Cihuahua ini bertumbuh!\n",
      "Cihuahua\n"
     ]
    }
   ],
   "source": [
    "class Animal:\n",
    "    def __init__(self):\n",
    "        self.type = 'Mamalia'\n",
    "        self.speed = 'Lambat'\n",
    "\n",
    "    def grow(self):\n",
    "        return f\"{self.type} ini bertumbuh!\"\n",
    "    \n",
    "class Dog(Animal):\n",
    "    def __init__(self, name, type):\n",
    "        \n",
    "        super().__init__()\n",
    "        \n",
    "        self.name = name\n",
    "        self.type = type  \n",
    "    \n",
    "    def run(self):\n",
    "        return f\"{self.type} ini berlari!\"\n",
    "    \n",
    "george = Dog(name = 'George', type = 'Cihuahua')\n",
    "\n",
    "print(george.grow())  # Memanggil method dari parent class\n",
    "print(george.type)  # Memanggil atribut dari parent class"
   ]
  },
  {
   "cell_type": "markdown",
   "id": "7248687f",
   "metadata": {},
   "source": [
    "#### Polimorphism"
   ]
  },
  {
   "cell_type": "markdown",
   "id": "861c47b7",
   "metadata": {},
   "source": [
    "Polimorfisme adalah kemampuan dalam OOP untuk menggunakan satu **fungsi umum** utnuk kemudian bekerja secara beragam tergantung object yang diberikan."
   ]
  },
  {
   "cell_type": "code",
   "execution_count": null,
   "id": "950e07fa",
   "metadata": {},
   "outputs": [
    {
     "name": "stdout",
     "output_type": "stream",
     "text": [
      "Yuki run!\n",
      "Kiki fly!\n"
     ]
    }
   ],
   "source": [
    "class Cat:\n",
    "    def __init__(self,):\n",
    "        self.name = 'Yuki'\n",
    "        self.type = 'Anggora'\n",
    "\n",
    "    def forward(self):\n",
    "        print(f\"{self.name} run!\")\n",
    "\n",
    "class Bird:\n",
    "    def __init__(self,):\n",
    "        self.name = 'Kiki'\n",
    "        self.type = 'Parrot'\n",
    "\n",
    "    def forward(self):\n",
    "        print(f\"{self.name} fly!\")\n",
    "\n",
    "# Fungsi yang menerima objek dari class Cat atau Bird\n",
    "# dan memanggil method forward() dari objek tersebut\n",
    "def animal_forward(objek):\n",
    "    objek.forward()\n",
    "    \n",
    "yuki = Cat()\n",
    "kiki = Bird()\n",
    "\n",
    "animal_forward(yuki)  # Output: Yuki run!\n",
    "animal_forward(kiki)  # Output: Kiki fly!"
   ]
  }
 ],
 "metadata": {
  "kernelspec": {
   "display_name": "base",
   "language": "python",
   "name": "python3"
  },
  "language_info": {
   "codemirror_mode": {
    "name": "ipython",
    "version": 3
   },
   "file_extension": ".py",
   "mimetype": "text/x-python",
   "name": "python",
   "nbconvert_exporter": "python",
   "pygments_lexer": "ipython3",
   "version": "3.13.5"
  }
 },
 "nbformat": 4,
 "nbformat_minor": 5
}
